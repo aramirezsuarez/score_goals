{
  "cells": [
    {
      "cell_type": "markdown",
      "source": [
        "# Taller 13 Guía de estilo para escribir código en Python\n",
        "En este taller aprenderá los conceptos **básicos** relativos a la guía de estilo para escribir código en Python [(PEP8)](https://peps.python.org/pep-0008/).\n",
        "\n",
        "La guía de estilo busca mejorar la claridad y la legibilidad del código en Python, pero no afecta su ejecución.\n"
      ],
      "metadata": {
        "id": "m1ragERr9SE3"
      }
    },
    {
      "cell_type": "markdown",
      "source": [
        "# **Ejercicios**.\n"
      ],
      "metadata": {
        "id": "pTHPw9Z8biXx"
      }
    },
    {
      "cell_type": "markdown",
      "source": [
        "## 01.\n",
        "Modifique el siguiente código para que se ajuste a las recomendaciones del PEP 8. Asigne nombres significativos a los elementos. Agregue comentarios y documentación en los casos que se requieran."
      ],
      "metadata": {
        "id": "-a8z0qMIoQIM"
      }
    },
    {
      "cell_type": "code",
      "source": [
        "nRo1=float(input(\"Ingrese el primer número: \"))\n",
        "\n",
        "\n",
        "nRo2=float(input(\"Ingrese el segundo número: \"))\n",
        "s =  nRo1 +     nRo2\n",
        "print(\"La suma es:\", s)\n"
      ],
      "metadata": {
        "id": "_c3OMX8dM3CL"
      },
      "execution_count": null,
      "outputs": []
    },
    {
      "cell_type": "code",
      "source": [
        "# Modifique en esta casilla el código anterior para que se ajuste al PEP8\n",
        "\n"
      ],
      "metadata": {
        "id": "BE5ya0RhM2re"
      },
      "execution_count": null,
      "outputs": []
    },
    {
      "cell_type": "markdown",
      "source": [
        "## 02.\n",
        "Modifique el siguiente código para que se ajuste a las recomendaciones del PEP 8. Asigne nombres significativos a los elementos. Agregue comentarios y documentación en los casos que se requieran."
      ],
      "metadata": {
        "id": "VmKoBAsFbu-u"
      }
    },
    {
      "cell_type": "code",
      "source": [
        "def factorial(n):\n",
        "    if n == 0 or n == 1:\n",
        "        return 1\n",
        "    else:\n",
        "        return n * factorial(n - 1)\n",
        "\n",
        "numero    =    int  (input  (    \"Ingrese un número para calcular su factorial: \"))\n",
        "resultado = factorial(numero)\n",
        "print(\"El factorial de\", numero, \"es:\", resultado)\n"
      ],
      "metadata": {
        "id": "25c2_lhvclvY",
        "colab": {
          "base_uri": "https://localhost:8080/"
        },
        "outputId": "cdf78ea3-1a4c-44cc-8dbe-ce4053b04b0e"
      },
      "execution_count": null,
      "outputs": [
        {
          "output_type": "stream",
          "name": "stdout",
          "text": [
            "Ingrese un número para calcular su factorial: 2\n",
            "El factorial de 2 es: 2\n"
          ]
        }
      ]
    },
    {
      "cell_type": "code",
      "source": [
        "# Modifique en esta casilla el código anterior para que se ajuste al PEP8\n",
        "\n"
      ],
      "metadata": {
        "id": "CgltiU1nelCr"
      },
      "execution_count": null,
      "outputs": []
    },
    {
      "cell_type": "markdown",
      "source": [
        "## 03.\n",
        "Modifique el siguiente código para que se ajuste a las recomendaciones del PEP 8. Asigne nombres significativos a los elementos.Agregue comentarios y documentación en los casos que se requieran."
      ],
      "metadata": {
        "id": "Arqn5zD3gqti"
      }
    },
    {
      "cell_type": "code",
      "source": [
        "import numpy as np\n",
        "\n",
        "MATRIZ_1 = np.array([    [2,6,2, 5],              [8, 3, 7, 3],            [5, 8, 1, 2]])\n",
        "MATRIZ_2 = np.array([    [4,5,6,8],              [2, 3, 22, 3],            [7, 9, 11, 13]])\n",
        "\n",
        "print (MATRIZ_1     +  MATRIZ_2)"
      ],
      "metadata": {
        "id": "NXZjE4dggyZW",
        "colab": {
          "base_uri": "https://localhost:8080/"
        },
        "outputId": "442780d7-99af-4639-f859-9b5532f1c6df"
      },
      "execution_count": null,
      "outputs": [
        {
          "output_type": "stream",
          "name": "stdout",
          "text": [
            "[[ 6 11  8 13]\n",
            " [10  6 29  6]\n",
            " [12 17 12 15]]\n"
          ]
        }
      ]
    },
    {
      "cell_type": "code",
      "source": [
        "# Modifique en esta casilla el código anterior para que se ajuste al PEP8\n",
        "\n"
      ],
      "metadata": {
        "id": "X9wVvlGRhw6L"
      },
      "execution_count": null,
      "outputs": []
    },
    {
      "cell_type": "markdown",
      "source": [
        "## 04.\n",
        "Modifique el siguiente código para que se ajuste a las recomendaciones del PEP 8. Asigne nombres significativos a los elementos. Agregue comentarios y documentación en los casos que se requieran.\n"
      ],
      "metadata": {
        "id": "lB5c5h2DlBLm"
      }
    },
    {
      "cell_type": "code",
      "source": [
        "cadena_CARACTERES = input(\"Ingrese una cadena: \")\n",
        "vocales = \"aeiouAEIOU\"\n",
        "conteo_VOCALES = sum(1 for char in cadena_CARACTERES if char in vocales)\n",
        "print(\"Número de vocales:\", conteo_VOCALES)"
      ],
      "metadata": {
        "id": "elks-TshlBMM"
      },
      "execution_count": null,
      "outputs": []
    },
    {
      "cell_type": "code",
      "source": [
        "# Modifique en esta casilla el código anterior para que se ajuste al PEP8\n",
        "\n"
      ],
      "metadata": {
        "id": "wj_zaGrllBMP"
      },
      "execution_count": null,
      "outputs": []
    },
    {
      "cell_type": "markdown",
      "source": [
        "## 05.\n",
        "Modifique el siguiente código para que se ajuste a las recomendaciones del PEP 8. Asigne nombres significativos a los elementos. Agregue comentarios y documentación en los casos que se requieran."
      ],
      "metadata": {
        "id": "-SzuAehUsrtm"
      }
    },
    {
      "cell_type": "code",
      "source": [
        "def ecuacion_bernoulli(presion, densidad, velocidad, gravedad, altura):\n",
        "    constante = presion + 0.5 * densidad * velocidad**2 + densidad * gravedad * altura\n",
        "    return constante\n",
        "presion_fluido = float(input(\"Ingrese la presión del fluido (P): \"))\n",
        "densidad_fluido = float(input(\"Ingrese la densidad del fluido (ρ): \"))\n",
        "velocidad_fluido = float(input(\"Ingrese la velocidad del fluido (v): \"))\n",
        "gravedad = float(input(\"Ingrese la aceleración debido a la gravedad (g): \"))\n",
        "altura_referencia = float(input(\"Ingrese la altura sobre el punto de referencia (h): \"))\n",
        "resultado_bernoulli = ecuacion_bernoulli(presion_fluido, densidad_fluido, velocidad_fluido, gravedad, altura_referencia)\n",
        "print(resultado_bernoulli)"
      ],
      "metadata": {
        "id": "PXayYrVMs1UD"
      },
      "execution_count": null,
      "outputs": []
    },
    {
      "cell_type": "code",
      "source": [
        "# Modifique en esta casilla el código anterior para que se ajuste al PEP8\n",
        "\n"
      ],
      "metadata": {
        "id": "9Ub63ukquc_q"
      },
      "execution_count": null,
      "outputs": []
    },
    {
      "cell_type": "markdown",
      "source": [
        "## 06.\n",
        "Modifique el siguiente código para que se ajuste a las recomendaciones del PEP 8. Asigne nombres significativos a los elementos. Agregue comentarios y documentación en los casos que se requieran."
      ],
      "metadata": {
        "id": "l6pPhHIOvueL"
      }
    },
    {
      "cell_type": "code",
      "source": [
        "def ordenar_numeros():\n",
        "      numeros = [int(x) for x in input(\"Ingrese números separados por espacio: \").split()]\n",
        "      numeros_ordenados     =     sorted(numeros)\n",
        "      print(\"Lista ordenada:\",    numeros_ordenados)\n",
        "ordenar_numeros()\n"
      ],
      "metadata": {
        "id": "tqRl9wypwDNQ"
      },
      "execution_count": null,
      "outputs": []
    },
    {
      "cell_type": "code",
      "source": [
        "# Modifique en esta casilla el código anterior para que se ajuste al PEP8\n",
        "\n"
      ],
      "metadata": {
        "id": "do_vEyGxwwWX"
      },
      "execution_count": null,
      "outputs": []
    },
    {
      "cell_type": "markdown",
      "source": [
        "## 07.\n",
        "Modifique el siguiente código para que se ajuste a las recomendaciones del PEP 8. Asigne nombres significativos a los elementos. Agregue comentarios y documentación en los casos que se requieran."
      ],
      "metadata": {
        "id": "WxbOkxkPyHOl"
      }
    },
    {
      "cell_type": "code",
      "source": [
        "import matplotlib.pyplot as plt\n",
        "def plot_histogram(datos, bins=20, edgecolor='black', xlabel='Valores', ylabel='Frecuencia', title='Histograma'):\n",
        "    plt.hist(datos, bins=bins, edgecolor=edgecolor)\n",
        "    plt.xlabel(xlabel)\n",
        "    plt.ylabel(ylabel)\n",
        "    plt.title(title)\n",
        "    plt.show()\n",
        "import numpy as np\n",
        "datos = np.random.randn(1000)\n",
        "plot_histogram(datos)"
      ],
      "metadata": {
        "id": "esiaXoBDyHO8"
      },
      "execution_count": null,
      "outputs": []
    },
    {
      "cell_type": "code",
      "source": [
        "# Modifique en esta casilla el código anterior para que se ajuste al PEP8\n",
        "\n"
      ],
      "metadata": {
        "id": "w_NhIqrKyHO9"
      },
      "execution_count": null,
      "outputs": []
    },
    {
      "cell_type": "markdown",
      "source": [
        "## 08.\n",
        "Modifique el siguiente código para que se ajuste a las recomendaciones del PEP 8. Asigne nombres significativos a los elementos. Agregue comentarios y documentación en los casos que se requieran."
      ],
      "metadata": {
        "id": "becLbSY7z17G"
      }
    },
    {
      "cell_type": "code",
      "source": [
        "b = float(input(\"Ingrese la base del triángulo: \"))\n",
        "a = float(input(\"Ingrese la altura del triángulo: \"))\n",
        "t = 0.5 * b * a\n",
        "print(\"El área del triángulo es:\", t)"
      ],
      "metadata": {
        "id": "_vlefugoFetG"
      },
      "execution_count": null,
      "outputs": []
    },
    {
      "cell_type": "code",
      "source": [
        "# Modifique en esta casilla el código anterior para que se ajuste al PEP8\n",
        "\n"
      ],
      "metadata": {
        "id": "PpP0muOYFd6n"
      },
      "execution_count": null,
      "outputs": []
    },
    {
      "cell_type": "markdown",
      "source": [
        "## 09.\n",
        "Modifique el siguiente código para que se ajuste a las recomendaciones del PEP 8. Asigne nombres significativos a los elementos. Agregue comentarios y documentación en los casos que se requieran."
      ],
      "metadata": {
        "id": "0Yebe97Z0vXs"
      }
    },
    {
      "cell_type": "code",
      "source": [
        "import matplotlib.pyplot as plt\n",
        "porcentajes = [25,\n",
        "                            30,\n",
        "                                      20,\n",
        "                                               15,\n",
        "                                                      10]\n",
        "categoRIAS = ['A',\n",
        "              'B',\n",
        "              'C',\n",
        "              'D',\n",
        "              'E']\n",
        "\n",
        "plt.pie(porcentajes, labels=categoRIAS, autopct='%1.1f%%', startangle=90) # configuracion del grafico\n",
        "plt.title('Grafico de Pastel') # titulo del grafico\n",
        "plt.show()\n"
      ],
      "metadata": {
        "id": "2MiPy6c1z17L"
      },
      "execution_count": null,
      "outputs": []
    },
    {
      "cell_type": "code",
      "source": [
        "# Modifique en esta casilla el código anterior para que se ajuste al PEP8\n",
        "\n"
      ],
      "metadata": {
        "id": "FCCRfXpBz17P"
      },
      "execution_count": null,
      "outputs": []
    },
    {
      "cell_type": "markdown",
      "source": [
        "## 10.\n",
        "Modifique el siguiente código para que se ajuste a las recomendaciones del PEP 8. Asigne nombres significativos a los elementos. Agregue comentarios y documentación en los casos que se requieran."
      ],
      "metadata": {
        "id": "70Y91RxspX8D"
      }
    },
    {
      "cell_type": "code",
      "source": [
        "import pandas as pd\n",
        "D = {'Nombre': ['Alice', 'Bob', 'Charlie'],'Edad': [25, 30, 35],'Ciudad': ['A', 'B', 'C']} #DATOS\n",
        "\n",
        "df    =    pd.DataFrame(D)\n",
        "print(df) #mostrar dataframe\n"
      ],
      "metadata": {
        "id": "q_Ui9LHkpbjs",
        "colab": {
          "base_uri": "https://localhost:8080/"
        },
        "outputId": "feb17cad-b9e4-4712-b108-c9005662a10a"
      },
      "execution_count": null,
      "outputs": [
        {
          "output_type": "stream",
          "name": "stdout",
          "text": [
            "    Nombre  Edad Ciudad\n",
            "0    Alice    25      A\n",
            "1      Bob    30      B\n",
            "2  Charlie    35      C\n"
          ]
        }
      ]
    },
    {
      "cell_type": "code",
      "source": [
        "# Modifique en esta casilla el código anterior para que se ajuste al PEP8\n",
        "\n"
      ],
      "metadata": {
        "id": "Jr58KMDGoI16"
      },
      "execution_count": null,
      "outputs": []
    },
    {
      "cell_type": "markdown",
      "source": [
        "## 11.\n",
        "Modifique el siguiente código para que se ajuste a las recomendaciones del PEP 8. Asigne nombres significativos a los elementos. Agregue comentarios y documentación en los casos que se requieran."
      ],
      "metadata": {
        "id": "npt9SGPNpdWQ"
      }
    },
    {
      "cell_type": "code",
      "source": [
        "import pandas as pd\n",
        "def filtrar_personas_mayores(datos, edad_limite=30):\n",
        "    df = pd.DataFrame(datos)\n",
        "    MAYORESlimite = df[df['Edad'] > edad_limite]\n",
        "    return MAYORESlimite\n",
        "\n",
        "datos = {'Nombre': ['Alice', 'Bob', 'Charlie'], 'Edad': [25, 30, 35], 'Ciudad': ['A', 'B', 'C']}\n",
        "personas_mayores = filtrar_personas_mayores(datos)\n",
        "print(\"Personas mayores de 30 años:\")\n",
        "print(personas_mayores)\n"
      ],
      "metadata": {
        "id": "4CLR6GxNpf93"
      },
      "execution_count": null,
      "outputs": []
    },
    {
      "cell_type": "code",
      "source": [
        "# Modifique en esta casilla el código anterior para que se ajuste al PEP8\n",
        "\n"
      ],
      "metadata": {
        "id": "MGbvLw1qoMfJ"
      },
      "execution_count": null,
      "outputs": []
    },
    {
      "cell_type": "markdown",
      "source": [
        "## 12.\n",
        "Modifique el siguiente código para que se ajuste a las recomendaciones del PEP 8. Asigne nombres significativos a los elementos. Agregue comentarios y documentación en los casos que se requieran."
      ],
      "metadata": {
        "id": "m_ijhclUphps"
      }
    },
    {
      "cell_type": "code",
      "source": [
        "def movimiento_rectilineo_uniforme(velocidad, tiempo_total, intervalo_tiempo):\n",
        "    tiempo = 0\n",
        "    while tiempo <= tiempo_total:\n",
        "        D = velocidad * tiempo #desplazamiento\n",
        "        print(f\"Tiempo: {tiempo} segundos - Posición: {D} unidades de distancia\")\n",
        "        tiempo += intervalo_tiempo\n",
        "\n",
        "v = 5  # velocidad objeto\n",
        "t = 10  # tiempo total simulacion en segundos\n",
        "i = 1  #intervalo de tiempo en segundos\n",
        "movimiento_rectilineo_uniforme(v, t, i)\n"
      ],
      "metadata": {
        "id": "To2n_MWXpj0U",
        "colab": {
          "base_uri": "https://localhost:8080/"
        },
        "outputId": "6cd971e5-472b-42c2-b08d-b465c5200e8a"
      },
      "execution_count": null,
      "outputs": [
        {
          "output_type": "stream",
          "name": "stdout",
          "text": [
            "Tiempo: 0 segundos - Posición: 0 unidades de distancia\n",
            "Tiempo: 1 segundos - Posición: 5 unidades de distancia\n",
            "Tiempo: 2 segundos - Posición: 10 unidades de distancia\n",
            "Tiempo: 3 segundos - Posición: 15 unidades de distancia\n",
            "Tiempo: 4 segundos - Posición: 20 unidades de distancia\n",
            "Tiempo: 5 segundos - Posición: 25 unidades de distancia\n",
            "Tiempo: 6 segundos - Posición: 30 unidades de distancia\n",
            "Tiempo: 7 segundos - Posición: 35 unidades de distancia\n",
            "Tiempo: 8 segundos - Posición: 40 unidades de distancia\n",
            "Tiempo: 9 segundos - Posición: 45 unidades de distancia\n",
            "Tiempo: 10 segundos - Posición: 50 unidades de distancia\n"
          ]
        }
      ]
    },
    {
      "cell_type": "code",
      "source": [
        "# Modifique en esta casilla el código anterior para que se ajuste al PEP8\n",
        "\n"
      ],
      "metadata": {
        "id": "VNY2qrtMoL3P"
      },
      "execution_count": null,
      "outputs": []
    },
    {
      "cell_type": "markdown",
      "source": [
        "## 13.\n",
        "Modifique el siguiente código para que se ajuste a las recomendaciones del PEP 8. Asigne nombres significativos a los elementos. Agregue comentarios y documentación en los casos que se requieran."
      ],
      "metadata": {
        "id": "02CUs83DplVE"
      }
    },
    {
      "cell_type": "code",
      "source": [
        "def determinar_paridad(numero):\n",
        "    if numero % 2 == 0: #comprobación\n",
        "        print(\"El número es par.\")\n",
        "    else:\n",
        "        print(\"El número es impar.\")\n",
        "\n",
        "n = int(input())\n",
        "determinar_paridad(n)\n"
      ],
      "metadata": {
        "id": "FwiwpcpBpnoK"
      },
      "execution_count": null,
      "outputs": []
    },
    {
      "cell_type": "code",
      "source": [
        "# Modifique en esta casilla el código anterior para que se ajuste al PEP8\n",
        "\n"
      ],
      "metadata": {
        "id": "s-Fa7IaGoLTI"
      },
      "execution_count": null,
      "outputs": []
    },
    {
      "cell_type": "markdown",
      "source": [
        "## 14.\n",
        "Modifique el siguiente código para que se ajuste a las recomendaciones del PEP 8. Asigne nombres significativos a los elementos. Agregue comentarios y documentación en los casos que se requieran."
      ],
      "metadata": {
        "id": "nhND6WYJppVU"
      }
    },
    {
      "cell_type": "code",
      "source": [
        "def CELSIUS_a_fahrenheit(celsius):\n",
        "    return celsius     * 9/5    +      32\n",
        "def fahrenheit_a_CELSIUS(fahrenheit):\n",
        "    return (fahrenheit -      32)       * 5/9\n",
        "print(CELSIUS_a_fahrenheit(0))\n",
        "print(fahrenheit_a_CELSIUS(32))"
      ],
      "metadata": {
        "id": "U9rz42L-pr6B"
      },
      "execution_count": null,
      "outputs": []
    },
    {
      "cell_type": "code",
      "source": [
        "# Modifique en esta casilla el código anterior para que se ajuste al PEP8\n",
        "\n"
      ],
      "metadata": {
        "id": "M9o7pEAnoKqn"
      },
      "execution_count": null,
      "outputs": []
    },
    {
      "cell_type": "markdown",
      "source": [
        "## 15.\n",
        "Modifique el siguiente código para que se ajuste a las recomendaciones del PEP 8. Asigne nombres significativos a los elementos. Agregue comentarios y documentación en los casos que se requieran."
      ],
      "metadata": {
        "id": "_cen1BtjptHk"
      }
    },
    {
      "cell_type": "code",
      "source": [
        "def suma(a, b):\n",
        "    return a + b\n",
        "def resta(a, b):\n",
        "    return a - b\n",
        "\n",
        "\n",
        "\n",
        "\n",
        "def multiplicacion(a, b):\n",
        "    return a * b\n",
        "def division(a, b):\n",
        "    if b != 0:\n",
        "        return a / b\n",
        "    else:\n",
        "        return \"Error: División por cero\"\n",
        "\n",
        "\n",
        "\n",
        "\n",
        "\n",
        "print(suma(5, 3))\n",
        "print(resta(7, 2))\n",
        "print(multiplicacion(4, 6))\n",
        "print(division(8, 2))"
      ],
      "metadata": {
        "id": "XwNWj8_xpw8t"
      },
      "execution_count": null,
      "outputs": []
    },
    {
      "cell_type": "code",
      "source": [
        "# Modifique en esta casilla el código anterior para que se ajuste al PEP8\n",
        "\n"
      ],
      "metadata": {
        "id": "lmbfpCv3oKBA"
      },
      "execution_count": null,
      "outputs": []
    },
    {
      "cell_type": "markdown",
      "source": [
        "## 16.\n",
        "Modifique el siguiente código para que se ajuste a las recomendaciones del PEP 8. Asigne nombres significativos a los elementos. Agregue comentarios y documentación en los casos que se requieran."
      ],
      "metadata": {
        "id": "IT5vJXDZQtEr"
      }
    },
    {
      "cell_type": "code",
      "source": [
        "def verificar_circulo_unico():\n",
        "\n",
        "\n",
        "\n",
        "    n = int(input())\n",
        "    for i in range(n):\n",
        "        cables = input()\n",
        "        cable_f = cables.count(\"F\")\n",
        "        cable_m = cables.count(\"M\")\n",
        "        if cable_f == cable_m:\n",
        "            print(\"Es posible hacer un único círculo\")\n",
        "\n",
        "\n",
        "\n",
        "        else:\n",
        "            print(\"No es posible\")\n",
        "\n",
        "\n",
        "\n",
        "verificar_circulo_unico()"
      ],
      "metadata": {
        "id": "DTZv93vhQwJN"
      },
      "execution_count": null,
      "outputs": []
    },
    {
      "cell_type": "code",
      "source": [
        "# Modifique en esta casilla el código anterior para que se ajuste al PEP8"
      ],
      "metadata": {
        "id": "8-pxVGRtQwb5"
      },
      "execution_count": null,
      "outputs": []
    },
    {
      "cell_type": "markdown",
      "source": [
        "## 17.\n",
        "Modifique el siguiente código para que se ajuste a las recomendaciones del PEP 8. Asigne nombres significativos a los elementos. Agregue comentarios y documentación en los casos que se requieran."
      ],
      "metadata": {
        "id": "E4OBbSA5QxGb"
      }
    },
    {
      "cell_type": "code",
      "source": [
        "def cambiafrase(nombre):\n",
        "    corregido = \"\"\n",
        "    for parte in nombre:\n",
        "        corregido =   corregido   +     parte.capitalize()\n",
        "    return corregido\n",
        "\n",
        "\n",
        "\n",
        "n =       int(input())\n",
        "for i in range(n):\n",
        "    nombre = input().split('_')\n",
        "    print(cambiafrase(nombre))"
      ],
      "metadata": {
        "id": "xWtEeMtJQ53P"
      },
      "execution_count": null,
      "outputs": []
    },
    {
      "cell_type": "code",
      "source": [
        "# Modifique en esta casilla el código anterior para que se ajuste al PEP8"
      ],
      "metadata": {
        "id": "foCnzyP_Q5ki"
      },
      "execution_count": null,
      "outputs": []
    },
    {
      "cell_type": "markdown",
      "source": [
        "## 18.\n",
        "Modifique el siguiente código para que se ajuste a las recomendaciones del PEP 8. Asigne nombres significativos a los elementos. Agregue comentarios y documentación en los casos que se requieran."
      ],
      "metadata": {
        "id": "KZlqVivKQ8lS"
      }
    },
    {
      "cell_type": "code",
      "source": [
        "import random\n",
        "NS = random.randint(1, 100) #NUMERO SERCRETO\n",
        "i = 0#intentos\n",
        "while True:\n",
        "    I_U = int(input(\"Adivina el número (entre 1 y 100): \"))       #INTENTO USUARIOS\n",
        "    i += 1#intentos\n",
        "    if I_U == NS:\n",
        "        print(f\"¡Correcto! Has adivinado en {i} intentos.\")\n",
        "        break\n",
        "    elif I_U < NS:\n",
        "        print(\"El número es mayor. Intenta de nuevo.\")\n",
        "    else:\n",
        "        print(\"El número es menor. Intenta de nuevo.\")"
      ],
      "metadata": {
        "id": "Chb8SjKEQ-xB"
      },
      "execution_count": null,
      "outputs": []
    },
    {
      "cell_type": "code",
      "source": [
        "# Modifique en esta casilla el código anterior para que se ajuste al PEP8"
      ],
      "metadata": {
        "id": "zMyrEkSIQ_Dr"
      },
      "execution_count": null,
      "outputs": []
    },
    {
      "cell_type": "markdown",
      "source": [
        "## 19.\n",
        "Modifique el siguiente código para que se ajuste a las recomendaciones del PEP 8. Asigne nombres significativos a los elementos. Agregue comentarios y documentación en los casos que se requieran."
      ],
      "metadata": {
        "id": "yhGEE0mJREdA"
      }
    },
    {
      "cell_type": "code",
      "source": [
        "import numpy as np\n",
        "numeros_ALEATORIOS = np.random.randint(1, 101, 10) # NUMEROS ALEATORIOS ENTRE 1 Y 100\n",
        "print(\"Arreglo de números aleatorios:\")\n",
        "print(numeros_ALEATORIOS)\n"
      ],
      "metadata": {
        "id": "R9ubMr4wRGs8"
      },
      "execution_count": null,
      "outputs": []
    },
    {
      "cell_type": "code",
      "source": [
        "# Modifique en esta casilla el código anterior para que se ajuste al PEP8"
      ],
      "metadata": {
        "id": "jwV__QY0RGcM"
      },
      "execution_count": null,
      "outputs": []
    },
    {
      "cell_type": "markdown",
      "source": [
        "## 20.\n",
        "Modifique el siguiente código para que se ajuste a las recomendaciones del PEP 8. Asigne nombres significativos a los elementos. Agregue comentarios y documentación en los casos que se requieran."
      ],
      "metadata": {
        "id": "LRPCbb8VRI4v"
      }
    },
    {
      "cell_type": "code",
      "source": [
        "import numpy as np\n",
        "arreglo_original = np.array([ 1,2,3,4,5,6,7,8,9,10]) # arreglo de números del 1 al 10\n",
        "\n",
        "\n",
        "\n",
        "\n",
        "\n",
        "M2x5 = arreglo_original.reshape(2, 5) # Cambiar la forma del arreglo a una matriz 2x5\n",
        "\n",
        "\n",
        "s_C = np.sum(M2x5, axis=0)            #  Calcular la suma de cada columna\n",
        "\n",
        "print(\"Arreglo Original:\")\n",
        "print(arreglo_original)\n",
        "print(\"\\nMatriz 2x5:\")\n",
        "print(M2x5)\n",
        "print(\"\\nSuma de cada columna:\")\n",
        "print(s_C)\n"
      ],
      "metadata": {
        "colab": {
          "base_uri": "https://localhost:8080/"
        },
        "id": "PX7Xqs2fhZ1a",
        "outputId": "18280469-a35f-4777-98a2-bea413750132"
      },
      "execution_count": null,
      "outputs": [
        {
          "output_type": "stream",
          "name": "stdout",
          "text": [
            "Arreglo Original:\n",
            "[ 1  2  3  4  5  6  7  8  9 10]\n",
            "\n",
            "Matriz 2x5:\n",
            "[[ 1  2  3  4  5]\n",
            " [ 6  7  8  9 10]]\n",
            "\n",
            "Suma de cada columna:\n",
            "[ 7  9 11 13 15]\n"
          ]
        }
      ]
    },
    {
      "cell_type": "code",
      "source": [
        "# Modifique en esta casilla el código anterior para que se ajuste al PEP8"
      ],
      "metadata": {
        "id": "zdG_CCLthaFS"
      },
      "execution_count": null,
      "outputs": []
    }
  ],
  "metadata": {
    "colab": {
      "provenance": []
    },
    "kernelspec": {
      "display_name": "Python 3",
      "name": "python3"
    }
  },
  "nbformat": 4,
  "nbformat_minor": 0
}